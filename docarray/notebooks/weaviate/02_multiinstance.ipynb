{
 "cells": [
  {
   "attachments": {},
   "cell_type": "markdown",
   "metadata": {},
   "source": [
    "# Introduction"
   ]
  },
  {
   "attachments": {},
   "cell_type": "markdown",
   "metadata": {},
   "source": [
    "This notebook shows how to configure docarray to reuse an exsiting schema."
   ]
  },
  {
   "attachments": {},
   "cell_type": "markdown",
   "metadata": {},
   "source": [
    "# Imports"
   ]
  },
  {
   "cell_type": "code",
   "execution_count": 1,
   "metadata": {},
   "outputs": [
    {
     "name": "stderr",
     "output_type": "stream",
     "text": [
      "/usr/local/lib/python3.9/site-packages/tqdm/auto.py:21: TqdmWarning: IProgress not found. Please update jupyter and ipywidgets. See https://ipywidgets.readthedocs.io/en/stable/user_install.html\n",
      "  from .autonotebook import tqdm as notebook_tqdm\n"
     ]
    }
   ],
   "source": [
    "from docarray import DocumentArray\n",
    "from docarray import Document\n",
    "from transformers import AutoModel, AutoTokenizer\n",
    "from pprint import pprint\n",
    "from weaviate import Client\n"
   ]
  },
  {
   "attachments": {},
   "cell_type": "markdown",
   "metadata": {},
   "source": [
    "# Setup"
   ]
  },
  {
   "cell_type": "code",
   "execution_count": 2,
   "metadata": {},
   "outputs": [],
   "source": [
    "# get the classnames from the weaviate instance\n",
    "def get_classnames(client):\n",
    "    classnames = []\n",
    "    for schema in client.schema.get()['classes']:\n",
    "        classnames.append(schema['class'])\n",
    "    return classnames"
   ]
  },
  {
   "attachments": {},
   "cell_type": "markdown",
   "metadata": {},
   "source": [
    "Instantiate a Weaviate client and clear the database."
   ]
  },
  {
   "cell_type": "code",
   "execution_count": 3,
   "metadata": {},
   "outputs": [],
   "source": [
    "client = Client(\"http://weaviate:8080\")\n",
    "client.schema.delete_all()"
   ]
  },
  {
   "attachments": {},
   "cell_type": "markdown",
   "metadata": {},
   "source": [
    "# Multiple Instances Of Document Array"
   ]
  },
  {
   "attachments": {},
   "cell_type": "markdown",
   "metadata": {},
   "source": [
    "## Default Settings"
   ]
  },
  {
   "attachments": {},
   "cell_type": "markdown",
   "metadata": {},
   "source": [
    "Import some documents:"
   ]
  },
  {
   "cell_type": "code",
   "execution_count": 4,
   "metadata": {},
   "outputs": [],
   "source": [
    "da1 = DocumentArray(storage='weaviate', config={'host': 'weaviate'})\n",
    "\n",
    "with da1:\n",
    "    da1.extend(\n",
    "        [\n",
    "            Document(text='Persist Documents with Weaviate.'),\n",
    "            Document(text='And enjoy fast nearest neighbor search.'),\n",
    "            Document(text='All while using DocArray API.'),\n",
    "        ]\n",
    "    )\n"
   ]
  },
  {
   "attachments": {},
   "cell_type": "markdown",
   "metadata": {},
   "source": [
    "See what classes we have in the database:"
   ]
  },
  {
   "cell_type": "code",
   "execution_count": 5,
   "metadata": {},
   "outputs": [
    {
     "data": {
      "text/plain": [
       "['Class4abf944024fa42308900466a996f13c4',\n",
       " 'Class4abf944024fa42308900466a996f13c4Meta']"
      ]
     },
     "execution_count": 5,
     "metadata": {},
     "output_type": "execute_result"
    }
   ],
   "source": [
    "get_classnames(client)"
   ]
  },
  {
   "attachments": {},
   "cell_type": "markdown",
   "metadata": {},
   "source": [
    "Import another set of documents and see what class they are assigned to:"
   ]
  },
  {
   "cell_type": "code",
   "execution_count": 6,
   "metadata": {},
   "outputs": [],
   "source": [
    "da2 = DocumentArray(storage='weaviate', config={'host': 'weaviate'})\n",
    "\n",
    "with da2:\n",
    "    da2.extend(\n",
    "        [\n",
    "            Document(text='lorem ipsum'),\n",
    "            Document(text='dolor sit amet'),\n",
    "            Document(text='consectetur adipiscing elit'),\n",
    "        ]\n",
    "    )"
   ]
  },
  {
   "cell_type": "code",
   "execution_count": 7,
   "metadata": {},
   "outputs": [
    {
     "data": {
      "text/plain": [
       "['Class4abf944024fa42308900466a996f13c4',\n",
       " 'Class4abf944024fa42308900466a996f13c4Meta',\n",
       " 'Class619fdcbee45742648969bec5d4f8cfe9',\n",
       " 'Class619fdcbee45742648969bec5d4f8cfe9Meta']"
      ]
     },
     "execution_count": 7,
     "metadata": {},
     "output_type": "execute_result"
    }
   ],
   "source": [
    "get_classnames(client)"
   ]
  },
  {
   "attachments": {},
   "cell_type": "markdown",
   "metadata": {},
   "source": [
    "Conclusion:\n",
    "\n",
    "Each instance of a document array is assigned to a new class."
   ]
  },
  {
   "attachments": {},
   "cell_type": "markdown",
   "metadata": {},
   "source": [
    "## Reuse Class"
   ]
  },
  {
   "cell_type": "code",
   "execution_count": 8,
   "metadata": {},
   "outputs": [],
   "source": [
    "client.schema.delete_all()"
   ]
  },
  {
   "cell_type": "code",
   "execution_count": 9,
   "metadata": {},
   "outputs": [],
   "source": [
    "class_name = \"Document\""
   ]
  },
  {
   "cell_type": "code",
   "execution_count": 10,
   "metadata": {},
   "outputs": [],
   "source": [
    "\n",
    "da1 = DocumentArray(storage='weaviate', config={'host': 'weaviate', 'name':class_name})\n",
    "\n",
    "with da1:\n",
    "    da1.extend(\n",
    "        [\n",
    "            Document(text='Persist Documents with Weaviate.'),\n",
    "            Document(text='And enjoy fast nearest neighbor search.'),\n",
    "            Document(text='All while using DocArray API.'),\n",
    "        ]\n",
    "    )"
   ]
  },
  {
   "cell_type": "code",
   "execution_count": 11,
   "metadata": {},
   "outputs": [
    {
     "data": {
      "text/plain": [
       "['Document', 'DocumentMeta']"
      ]
     },
     "execution_count": 11,
     "metadata": {},
     "output_type": "execute_result"
    }
   ],
   "source": [
    "get_classnames(client)"
   ]
  },
  {
   "cell_type": "code",
   "execution_count": 12,
   "metadata": {},
   "outputs": [
    {
     "name": "stderr",
     "output_type": "stream",
     "text": [
      "/usr/local/lib/python3.9/site-packages/weaviate/data/crud_data.py:662: DeprecationWarning: Weaviate Server version >= 1.14.x STRONGLY recommends using class namespaced APIs, please specify the `class_name` argument for this. The non-class namespaced APIs (None value for `class_name`) are going to be removed in the future versions of the Weaviate Server and Weaviate Python Client.\n",
      "  warnings.warn(\n"
     ]
    }
   ],
   "source": [
    "da2 = DocumentArray(storage='weaviate', config={'host': 'weaviate', 'name':class_name})\n",
    "\n",
    "with da2:\n",
    "    da2.extend(\n",
    "        [\n",
    "            Document(text='lorem ipsum'),\n",
    "            Document(text='dolor sit amet'),\n",
    "            Document(text='consectetur adipiscing elit'),\n",
    "        ]\n",
    "    )"
   ]
  },
  {
   "cell_type": "code",
   "execution_count": 13,
   "metadata": {},
   "outputs": [
    {
     "data": {
      "text/plain": [
       "['Document', 'DocumentMeta']"
      ]
     },
     "execution_count": 13,
     "metadata": {},
     "output_type": "execute_result"
    }
   ],
   "source": [
    "get_classnames(client)"
   ]
  },
  {
   "attachments": {},
   "cell_type": "markdown",
   "metadata": {},
   "source": [
    "There should only be 6 Document objects and 1 DocumentMeta object in the database:"
   ]
  },
  {
   "cell_type": "code",
   "execution_count": 14,
   "metadata": {},
   "outputs": [],
   "source": [
    "assert client.data_object.get(class_name=\"Document\")[\"totalResults\"] == 6\n",
    "assert client.data_object.get(class_name=\"DocumentMeta\")[\"totalResults\"] == 1"
   ]
  },
  {
   "attachments": {},
   "cell_type": "markdown",
   "metadata": {},
   "source": [
    "There should be 6 offset2ids in the DocumentMeta object:"
   ]
  },
  {
   "cell_type": "code",
   "execution_count": 15,
   "metadata": {},
   "outputs": [],
   "source": [
    "meta = client.data_object.get(class_name=\"DocumentMeta\")[\"objects\"][0]\n",
    "\n",
    "assert len(meta[\"properties\"][\"_offset2ids\"]) == 6"
   ]
  },
  {
   "attachments": {},
   "cell_type": "markdown",
   "metadata": {},
   "source": [
    "Conclusion:\n",
    "\n",
    "Instantiating a DocumentArray with a `name` key in the `config` parameter will reuse the same class"
   ]
  }
 ],
 "metadata": {
  "kernelspec": {
   "display_name": "Python 3",
   "language": "python",
   "name": "python3"
  },
  "language_info": {
   "codemirror_mode": {
    "name": "ipython",
    "version": 3
   },
   "file_extension": ".py",
   "mimetype": "text/x-python",
   "name": "python",
   "nbconvert_exporter": "python",
   "pygments_lexer": "ipython3",
   "version": "3.9.16"
  },
  "orig_nbformat": 4,
  "vscode": {
   "interpreter": {
    "hash": "949777d72b0d2535278d3dc13498b2535136f6dfe0678499012e853ee9abcab1"
   }
  }
 },
 "nbformat": 4,
 "nbformat_minor": 2
}

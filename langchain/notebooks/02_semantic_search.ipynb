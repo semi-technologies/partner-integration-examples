{
 "cells": [
  {
   "attachments": {},
   "cell_type": "markdown",
   "metadata": {},
   "source": [
    "This notebook shows how to use Langchain + Weaviate to do semantic search."
   ]
  },
  {
   "attachments": {},
   "cell_type": "markdown",
   "metadata": {},
   "source": [
    "Some imports:"
   ]
  },
  {
   "cell_type": "code",
   "execution_count": 1,
   "metadata": {},
   "outputs": [],
   "source": [
    "import os\n",
    "\n",
    "import weaviate\n",
    "from langchain.document_loaders import GutenbergLoader\n",
    "from langchain.embeddings.openai import OpenAIEmbeddings\n",
    "from langchain.text_splitter import CharacterTextSplitter\n",
    "from langchain.vectorstores import Weaviate"
   ]
  },
  {
   "attachments": {},
   "cell_type": "markdown",
   "metadata": {},
   "source": [
    "Get a book:"
   ]
  },
  {
   "cell_type": "code",
   "execution_count": 2,
   "metadata": {},
   "outputs": [],
   "source": [
    "# Grimms' Fairy Tales by Jacob Grimm and Wilhelm Grimm\n",
    "loader = GutenbergLoader(\"https://www.gutenberg.org/files/2591/2591-0.txt\")\n"
   ]
  },
  {
   "cell_type": "code",
   "execution_count": 3,
   "metadata": {},
   "outputs": [],
   "source": [
    "documents = loader.load()\n"
   ]
  },
  {
   "attachments": {},
   "cell_type": "markdown",
   "metadata": {},
   "source": [
    "Split the book:"
   ]
  },
  {
   "cell_type": "code",
   "execution_count": 4,
   "metadata": {},
   "outputs": [],
   "source": [
    "text_splitter = CharacterTextSplitter(\n",
    "    chunk_size=500, chunk_overlap=0, length_function=len\n",
    ")\n",
    "docs = text_splitter.split_documents(documents)\n"
   ]
  },
  {
   "attachments": {},
   "cell_type": "markdown",
   "metadata": {},
   "source": [
    "Set up weaviate:"
   ]
  },
  {
   "cell_type": "code",
   "execution_count": 5,
   "metadata": {},
   "outputs": [],
   "source": [
    "WEAVIATE_URL = \"http://weaviate:8080\"\n",
    "client = weaviate.Client(\n",
    "    url=WEAVIATE_URL,\n",
    "    additional_headers={\"X-OpenAI-Api-Key\": os.environ[\"OPENAI_API_KEY\"]},\n",
    ")\n"
   ]
  },
  {
   "cell_type": "code",
   "execution_count": 6,
   "metadata": {},
   "outputs": [],
   "source": [
    "client.schema.delete_all()\n",
    "client.schema.get()\n",
    "schema = {\n",
    "    \"classes\": [\n",
    "        {\n",
    "            \"class\": \"Paragraph\",\n",
    "            \"description\": \"A written paragraph\",\n",
    "            \"vectorizer\": \"text2vec-openai\",\n",
    "            \"moduleConfig\": {\"text2vec-openai\": {\"model\": \"ada\", \"type\": \"text\"}},\n",
    "            \"properties\": [\n",
    "                {\n",
    "                    \"dataType\": [\"text\"],\n",
    "                    \"description\": \"The content of the paragraph\",\n",
    "                    \"moduleConfig\": {\n",
    "                        \"text2vec-openai\": {\n",
    "                            \"skip\": False,\n",
    "                            \"vectorizePropertyName\": False,\n",
    "                        }\n",
    "                    },\n",
    "                    \"name\": \"content\",\n",
    "                },\n",
    "            ],\n",
    "        },\n",
    "    ]\n",
    "}\n",
    "\n",
    "client.schema.create(schema)\n"
   ]
  },
  {
   "cell_type": "code",
   "execution_count": 7,
   "metadata": {},
   "outputs": [],
   "source": [
    "vectorstore = Weaviate(client, \"Paragraph\", \"content\")\n"
   ]
  },
  {
   "attachments": {},
   "cell_type": "markdown",
   "metadata": {},
   "source": [
    "Store the docs:"
   ]
  },
  {
   "cell_type": "code",
   "execution_count": 8,
   "metadata": {},
   "outputs": [],
   "source": [
    "text_meta_pair = [(doc.page_content, doc.metadata) for doc in docs]\n",
    "\n",
    "texts, meta = list(zip(*text_meta_pair))\n"
   ]
  },
  {
   "cell_type": "code",
   "execution_count": 9,
   "metadata": {},
   "outputs": [],
   "source": [
    "vectorstore.add_texts(texts, meta)\n"
   ]
  },
  {
   "attachments": {},
   "cell_type": "markdown",
   "metadata": {},
   "source": [
    "Do a semantic search:"
   ]
  },
  {
   "cell_type": "code",
   "execution_count": 10,
   "metadata": {},
   "outputs": [],
   "source": [
    "query = \"the part where with talking animals\"\n",
    "docs = vectorstore.similarity_search(query)\n"
   ]
  },
  {
   "cell_type": "code",
   "execution_count": 11,
   "metadata": {},
   "outputs": [
    {
     "name": "stdout",
     "output_type": "stream",
     "text": [
      "came and wept with him over poor Partlet. And six mice built a little\n",
      "\n",
      "\n",
      "hearse to carry her to her grave; and when it was ready they harnessed\n",
      "\n",
      "\n",
      "themselves before it, and Chanticleer drove them. On the way they\n",
      "\n",
      "\n",
      "met the fox. ‘Where are you going, Chanticleer?’ said he. ‘To bury my\n",
      "\n",
      "\n",
      "Partlet,’ said the other. ‘May I go with you?’ said the fox. ‘Yes; but\n",
      "\n",
      "\n",
      "you must get up behind, or my horses will not be able to draw you.’ Then\n",
      "\n",
      "\n",
      "the fox got up behind; and presently the wolf, the bear, the goat, and\n",
      "********************************************************************************\n",
      "himself, for his ears stuck out of the bush; and when he shook one of\n",
      "\n",
      "\n",
      "them a little, the cat, seeing something move, and thinking it was a\n",
      "\n",
      "\n",
      "mouse, sprang upon it, and bit and scratched it, so that the boar jumped\n",
      "\n",
      "\n",
      "up and grunted, and ran away, roaring out, ‘Look up in the tree, there\n",
      "\n",
      "\n",
      "sits the one who is to blame.’ So they looked up, and espied the wolf\n",
      "\n",
      "\n",
      "sitting amongst the branches; and they called him a cowardly rascal,\n",
      "\n",
      "\n",
      "and would not suffer him to come down till he was heartily ashamed of\n",
      "********************************************************************************\n",
      "all the beasts of the wood, came and climbed upon the hearse.\n",
      "\n",
      "\n",
      "\n",
      "\n",
      "\n",
      "So on they went till they came to a rapid stream. ‘How shall we get\n",
      "\n",
      "\n",
      "over?’ said Chanticleer. Then said a straw, ‘I will lay myself across,\n",
      "\n",
      "\n",
      "and you may pass over upon me.’ But as the mice were going over, the\n",
      "\n",
      "\n",
      "straw slipped away and fell into the water, and the six mice all fell in\n",
      "\n",
      "\n",
      "and were drowned. What was to be done? Then a large log of wood came\n",
      "\n",
      "\n",
      "and said, ‘I am big enough; I will lay myself across the stream, and you\n",
      "********************************************************************************\n",
      "Once in summer-time the bear and the wolf were walking in the forest,\n",
      "\n",
      "\n",
      "and the bear heard a bird singing so beautifully that he said: ‘Brother\n",
      "\n",
      "\n",
      "wolf, what bird is it that sings so well?’ ‘That is the King of birds,’\n",
      "\n",
      "\n",
      "said the wolf, ‘before whom we must bow down.’ In reality the bird was\n",
      "\n",
      "\n",
      "the willow-wren. ‘IF that’s the case,’ said the bear, ‘I should very\n",
      "\n",
      "\n",
      "much like to see his royal palace; come, take me thither.’ ‘That is not\n",
      "********************************************************************************\n"
     ]
    }
   ],
   "source": [
    "for doc in docs:\n",
    "    print(doc.page_content)\n",
    "    print(\"*\" * 80)\n"
   ]
  },
  {
   "cell_type": "code",
   "execution_count": null,
   "metadata": {},
   "outputs": [],
   "source": []
  }
 ],
 "metadata": {
  "kernelspec": {
   "display_name": "Python 3",
   "language": "python",
   "name": "python3"
  },
  "language_info": {
   "codemirror_mode": {
    "name": "ipython",
    "version": 3
   },
   "file_extension": ".py",
   "mimetype": "text/x-python",
   "name": "python",
   "nbconvert_exporter": "python",
   "pygments_lexer": "ipython3",
   "version": "3.9.16"
  },
  "orig_nbformat": 4,
  "vscode": {
   "interpreter": {
    "hash": "949777d72b0d2535278d3dc13498b2535136f6dfe0678499012e853ee9abcab1"
   }
  }
 },
 "nbformat": 4,
 "nbformat_minor": 2
}

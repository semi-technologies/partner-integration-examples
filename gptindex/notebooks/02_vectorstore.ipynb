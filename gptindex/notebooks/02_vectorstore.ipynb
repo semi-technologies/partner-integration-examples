{
 "cells": [
  {
   "attachments": {},
   "cell_type": "markdown",
   "metadata": {},
   "source": [
    "# Introduction"
   ]
  },
  {
   "attachments": {},
   "cell_type": "markdown",
   "metadata": {},
   "source": [
    "This notebook shows how to use GPT index to store embeddings in a weaviate instance."
   ]
  },
  {
   "attachments": {},
   "cell_type": "markdown",
   "metadata": {},
   "source": [
    "# Imports"
   ]
  },
  {
   "cell_type": "code",
   "execution_count": 1,
   "metadata": {},
   "outputs": [],
   "source": [
    "import logging\n",
    "import sys\n",
    "\n",
    "import weaviate\n",
    "\n",
    "from gpt_index import Document, GPTWeaviateIndex\n",
    "from gpt_index.langchain_helpers.text_splitter import TokenTextSplitter\n",
    "from gpt_index.readers import WikipediaReader\n",
    "from gpt_index import LLMPredictor\n",
    "from langchain import Cohere, HuggingFaceHub, OpenAI\n",
    "\n",
    "from IPython.display import Markdown, HTML"
   ]
  },
  {
   "cell_type": "code",
   "execution_count": 2,
   "metadata": {},
   "outputs": [],
   "source": [
    "logging.basicConfig(stream=sys.stdout, level=logging.INFO)\n",
    "logging.getLogger().addHandler(logging.StreamHandler(stream=sys.stdout))"
   ]
  },
  {
   "attachments": {},
   "cell_type": "markdown",
   "metadata": {},
   "source": [
    "# Dataset"
   ]
  },
  {
   "attachments": {},
   "cell_type": "markdown",
   "metadata": {},
   "source": [
    "Download an article from wikipedia and split it into chunks of 200 words."
   ]
  },
  {
   "cell_type": "code",
   "execution_count": 3,
   "metadata": {},
   "outputs": [],
   "source": [
    "# don't use the wikipedia reader for now, it's not working\n",
    "# see: https://github.com/jerryjliu/gpt_index/issues/581\n",
    "# docs = WikipediaReader().load_data([\"cats\"])\n",
    "text_splitter = TokenTextSplitter(\n",
    "    separator=\" \", chunk_size=200, chunk_overlap=20)\n",
    "\n",
    "from gpt_index.readers import SimpleDirectoryReader\n",
    "\n",
    "docs = SimpleDirectoryReader(\"./sample_data\").load_data()"
   ]
  },
  {
   "cell_type": "code",
   "execution_count": 4,
   "metadata": {},
   "outputs": [],
   "source": [
    "text_chunks = text_splitter.split_text(docs[0].text)\n",
    "doc_chunks = [Document(t) for t in text_chunks]\n"
   ]
  },
  {
   "attachments": {},
   "cell_type": "markdown",
   "metadata": {},
   "source": [
    "# Index"
   ]
  },
  {
   "cell_type": "code",
   "execution_count": 5,
   "metadata": {},
   "outputs": [],
   "source": [
    "client = weaviate.Client(\"http://weaviate:8080\")\n"
   ]
  },
  {
   "cell_type": "code",
   "execution_count": 6,
   "metadata": {},
   "outputs": [],
   "source": [
    "client.schema.delete_all()\n"
   ]
  },
  {
   "attachments": {},
   "cell_type": "markdown",
   "metadata": {},
   "source": [
    "A service can sometimes be flaky so choose one of the following options:"
   ]
  },
  {
   "cell_type": "code",
   "execution_count": 7,
   "metadata": {},
   "outputs": [],
   "source": [
    "# llm_predictor = LLMPredictor(llm=HuggingFaceHub())\n",
    "# llm_predictor = LLMPredictor(llm=Cohere())\n",
    "llm_predictor = LLMPredictor(llm=OpenAI())"
   ]
  },
  {
   "cell_type": "code",
   "execution_count": 8,
   "metadata": {},
   "outputs": [
    {
     "name": "stderr",
     "output_type": "stream",
     "text": [
      "INFO:root:> [build_index_from_documents] Total LLM token usage: 0 tokens\n"
     ]
    },
    {
     "name": "stdout",
     "output_type": "stream",
     "text": [
      "> [build_index_from_documents] Total LLM token usage: 0 tokens\n"
     ]
    },
    {
     "name": "stderr",
     "output_type": "stream",
     "text": [
      "INFO:root:> [build_index_from_documents] Total embedding token usage: 12421 tokens\n"
     ]
    },
    {
     "name": "stdout",
     "output_type": "stream",
     "text": [
      "> [build_index_from_documents] Total embedding token usage: 12421 tokens\n"
     ]
    }
   ],
   "source": [
    "index = GPTWeaviateIndex(doc_chunks, weaviate_client=client, llm_predictor=llm_predictor)\n"
   ]
  },
  {
   "cell_type": "code",
   "execution_count": 9,
   "metadata": {},
   "outputs": [
    {
     "data": {
      "text/plain": [
       "[{'gitHash': '5ce21bb',\n",
       "  'name': 'node1',\n",
       "  'shards': [{'class': 'Gpt_Index_8588076422103233428_Node',\n",
       "    'name': 'RVZpGnqDvq57',\n",
       "    'objectCount': 74}],\n",
       "  'stats': {'objectCount': 74, 'shardCount': 1},\n",
       "  'status': 'HEALTHY',\n",
       "  'version': '1.17.3'}]"
      ]
     },
     "execution_count": 9,
     "metadata": {},
     "output_type": "execute_result"
    }
   ],
   "source": [
    "# check that the docs are really in weaviate\n",
    "client.cluster.get_nodes_status()"
   ]
  },
  {
   "attachments": {},
   "cell_type": "markdown",
   "metadata": {},
   "source": [
    "# Query"
   ]
  },
  {
   "cell_type": "code",
   "execution_count": 10,
   "metadata": {},
   "outputs": [
    {
     "name": "stderr",
     "output_type": "stream",
     "text": [
      "INFO:root:> [query] Total LLM token usage: 226 tokens\n"
     ]
    },
    {
     "name": "stdout",
     "output_type": "stream",
     "text": [
      "> [query] Total LLM token usage: 226 tokens\n"
     ]
    },
    {
     "name": "stderr",
     "output_type": "stream",
     "text": [
      "INFO:root:> [query] Total embedding token usage: 8 tokens\n"
     ]
    },
    {
     "name": "stdout",
     "output_type": "stream",
     "text": [
      "> [query] Total embedding token usage: 8 tokens\n",
      "\n",
      "The scientific name for cats is Felis catus.\n"
     ]
    }
   ],
   "source": [
    "question = \"What is the scientific name for cats?\"\n",
    "\n",
    "response = index.query(question)\n",
    "\n",
    "print(response.response)"
   ]
  }
 ],
 "metadata": {
  "kernelspec": {
   "display_name": "Python 3",
   "language": "python",
   "name": "python3"
  },
  "language_info": {
   "codemirror_mode": {
    "name": "ipython",
    "version": 3
   },
   "file_extension": ".py",
   "mimetype": "text/x-python",
   "name": "python",
   "nbconvert_exporter": "python",
   "pygments_lexer": "ipython3",
   "version": "3.9.16"
  },
  "orig_nbformat": 4,
  "vscode": {
   "interpreter": {
    "hash": "949777d72b0d2535278d3dc13498b2535136f6dfe0678499012e853ee9abcab1"
   }
  }
 },
 "nbformat": 4,
 "nbformat_minor": 2
}
